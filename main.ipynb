{
 "cells": [
  {
   "cell_type": "markdown",
   "id": "b2881243",
   "metadata": {},
   "source": []
  },
  {
   "cell_type": "code",
   "execution_count": 1,
   "id": "006a3aa1",
   "metadata": {},
   "outputs": [],
   "source": [
    "import pandas as pd\n",
    "import matplotlib as mpl\n",
    "import matplotlib.pyplot as plt\n",
    "import numpy as np"
   ]
  },
  {
   "cell_type": "code",
   "execution_count": 2,
   "id": "65f76826",
   "metadata": {},
   "outputs": [],
   "source": [
    "# create initial dataframe. contains data on all companies in fortune 500.\n",
    "\n",
    "df = pd.read_csv('fortune500.csv', index_col=0)"
   ]
  },
  {
   "cell_type": "code",
   "execution_count": 3,
   "id": "5dc1406a",
   "metadata": {},
   "outputs": [
    {
     "data": {
      "text/html": [
       "<div>\n",
       "<style scoped>\n",
       "    .dataframe tbody tr th:only-of-type {\n",
       "        vertical-align: middle;\n",
       "    }\n",
       "\n",
       "    .dataframe tbody tr th {\n",
       "        vertical-align: top;\n",
       "    }\n",
       "\n",
       "    .dataframe thead th {\n",
       "        text-align: right;\n",
       "    }\n",
       "</style>\n",
       "<table border=\"1\" class=\"dataframe\">\n",
       "  <thead>\n",
       "    <tr style=\"text-align: right;\">\n",
       "      <th></th>\n",
       "      <th>Name</th>\n",
       "      <th>Revenue</th>\n",
       "      <th>Rank</th>\n",
       "    </tr>\n",
       "    <tr>\n",
       "      <th>Year</th>\n",
       "      <th></th>\n",
       "      <th></th>\n",
       "      <th></th>\n",
       "    </tr>\n",
       "  </thead>\n",
       "  <tbody>\n",
       "    <tr>\n",
       "      <th>2021</th>\n",
       "      <td>Walmart</td>\n",
       "      <td>559151.0</td>\n",
       "      <td>1</td>\n",
       "    </tr>\n",
       "    <tr>\n",
       "      <th>2021</th>\n",
       "      <td>Amazon</td>\n",
       "      <td>386064.0</td>\n",
       "      <td>2</td>\n",
       "    </tr>\n",
       "    <tr>\n",
       "      <th>2021</th>\n",
       "      <td>Apple</td>\n",
       "      <td>274515.0</td>\n",
       "      <td>3</td>\n",
       "    </tr>\n",
       "    <tr>\n",
       "      <th>2021</th>\n",
       "      <td>CVS</td>\n",
       "      <td>268706.0</td>\n",
       "      <td>4</td>\n",
       "    </tr>\n",
       "    <tr>\n",
       "      <th>2021</th>\n",
       "      <td>UnitedHealth Group</td>\n",
       "      <td>257141.0</td>\n",
       "      <td>5</td>\n",
       "    </tr>\n",
       "    <tr>\n",
       "      <th>2021</th>\n",
       "      <td>Berkshire Hathaway</td>\n",
       "      <td>245510.0</td>\n",
       "      <td>6</td>\n",
       "    </tr>\n",
       "    <tr>\n",
       "      <th>2021</th>\n",
       "      <td>McKesson</td>\n",
       "      <td>231051.0</td>\n",
       "      <td>7</td>\n",
       "    </tr>\n",
       "    <tr>\n",
       "      <th>2021</th>\n",
       "      <td>AmerisourceBergen</td>\n",
       "      <td>189893.9</td>\n",
       "      <td>8</td>\n",
       "    </tr>\n",
       "    <tr>\n",
       "      <th>2021</th>\n",
       "      <td>Alphabet</td>\n",
       "      <td>182527.0</td>\n",
       "      <td>9</td>\n",
       "    </tr>\n",
       "    <tr>\n",
       "      <th>2021</th>\n",
       "      <td>Exxon Mobil</td>\n",
       "      <td>181502.0</td>\n",
       "      <td>10</td>\n",
       "    </tr>\n",
       "    <tr>\n",
       "      <th>2021</th>\n",
       "      <td>AT&amp;T</td>\n",
       "      <td>171760.0</td>\n",
       "      <td>11</td>\n",
       "    </tr>\n",
       "    <tr>\n",
       "      <th>2021</th>\n",
       "      <td>Costco</td>\n",
       "      <td>166761.0</td>\n",
       "      <td>12</td>\n",
       "    </tr>\n",
       "  </tbody>\n",
       "</table>\n",
       "</div>"
      ],
      "text/plain": [
       "                    Name   Revenue  Rank\n",
       "Year                                    \n",
       "2021             Walmart  559151.0     1\n",
       "2021              Amazon  386064.0     2\n",
       "2021               Apple  274515.0     3\n",
       "2021                 CVS  268706.0     4\n",
       "2021  UnitedHealth Group  257141.0     5\n",
       "2021  Berkshire Hathaway  245510.0     6\n",
       "2021            McKesson  231051.0     7\n",
       "2021   AmerisourceBergen  189893.9     8\n",
       "2021            Alphabet  182527.0     9\n",
       "2021         Exxon Mobil  181502.0    10\n",
       "2021                AT&T  171760.0    11\n",
       "2021              Costco  166761.0    12"
      ]
     },
     "execution_count": 3,
     "metadata": {},
     "output_type": "execute_result"
    }
   ],
   "source": [
    "# first entries in the data frame.\n",
    "\n",
    "df.head(12)"
   ]
  },
  {
   "cell_type": "code",
   "execution_count": 4,
   "id": "fc4c6673",
   "metadata": {},
   "outputs": [
    {
     "data": {
      "text/plain": [
       "Name        object\n",
       "Revenue    float64\n",
       "Rank         int64\n",
       "dtype: object"
      ]
     },
     "execution_count": 4,
     "metadata": {},
     "output_type": "execute_result"
    }
   ],
   "source": [
    "df.dtypes"
   ]
  },
  {
   "cell_type": "code",
   "execution_count": 5,
   "id": "70708266",
   "metadata": {},
   "outputs": [],
   "source": [
    "# create limited data frame containing data on only companies ranked 1-10 each year.\n",
    "\n",
    "top10 = df.loc[df['Rank'] <= 10]"
   ]
  },
  {
   "cell_type": "code",
   "execution_count": 6,
   "id": "68472101",
   "metadata": {},
   "outputs": [
    {
     "data": {
      "text/html": [
       "<div>\n",
       "<style scoped>\n",
       "    .dataframe tbody tr th:only-of-type {\n",
       "        vertical-align: middle;\n",
       "    }\n",
       "\n",
       "    .dataframe tbody tr th {\n",
       "        vertical-align: top;\n",
       "    }\n",
       "\n",
       "    .dataframe thead th {\n",
       "        text-align: right;\n",
       "    }\n",
       "</style>\n",
       "<table border=\"1\" class=\"dataframe\">\n",
       "  <thead>\n",
       "    <tr style=\"text-align: right;\">\n",
       "      <th></th>\n",
       "      <th>Name</th>\n",
       "      <th>Revenue</th>\n",
       "      <th>Rank</th>\n",
       "    </tr>\n",
       "    <tr>\n",
       "      <th>Year</th>\n",
       "      <th></th>\n",
       "      <th></th>\n",
       "      <th></th>\n",
       "    </tr>\n",
       "  </thead>\n",
       "  <tbody>\n",
       "    <tr>\n",
       "      <th>2021</th>\n",
       "      <td>Walmart</td>\n",
       "      <td>559151.0</td>\n",
       "      <td>1</td>\n",
       "    </tr>\n",
       "    <tr>\n",
       "      <th>2021</th>\n",
       "      <td>Amazon</td>\n",
       "      <td>386064.0</td>\n",
       "      <td>2</td>\n",
       "    </tr>\n",
       "    <tr>\n",
       "      <th>2021</th>\n",
       "      <td>Apple</td>\n",
       "      <td>274515.0</td>\n",
       "      <td>3</td>\n",
       "    </tr>\n",
       "    <tr>\n",
       "      <th>2021</th>\n",
       "      <td>CVS</td>\n",
       "      <td>268706.0</td>\n",
       "      <td>4</td>\n",
       "    </tr>\n",
       "    <tr>\n",
       "      <th>2021</th>\n",
       "      <td>UnitedHealth Group</td>\n",
       "      <td>257141.0</td>\n",
       "      <td>5</td>\n",
       "    </tr>\n",
       "    <tr>\n",
       "      <th>2021</th>\n",
       "      <td>Berkshire Hathaway</td>\n",
       "      <td>245510.0</td>\n",
       "      <td>6</td>\n",
       "    </tr>\n",
       "    <tr>\n",
       "      <th>2021</th>\n",
       "      <td>McKesson</td>\n",
       "      <td>231051.0</td>\n",
       "      <td>7</td>\n",
       "    </tr>\n",
       "    <tr>\n",
       "      <th>2021</th>\n",
       "      <td>AmerisourceBergen</td>\n",
       "      <td>189893.9</td>\n",
       "      <td>8</td>\n",
       "    </tr>\n",
       "    <tr>\n",
       "      <th>2021</th>\n",
       "      <td>Alphabet</td>\n",
       "      <td>182527.0</td>\n",
       "      <td>9</td>\n",
       "    </tr>\n",
       "    <tr>\n",
       "      <th>2021</th>\n",
       "      <td>Exxon Mobil</td>\n",
       "      <td>181502.0</td>\n",
       "      <td>10</td>\n",
       "    </tr>\n",
       "    <tr>\n",
       "      <th>2020</th>\n",
       "      <td>Walmart</td>\n",
       "      <td>523964.0</td>\n",
       "      <td>1</td>\n",
       "    </tr>\n",
       "    <tr>\n",
       "      <th>2020</th>\n",
       "      <td>Amazon</td>\n",
       "      <td>280522.0</td>\n",
       "      <td>2</td>\n",
       "    </tr>\n",
       "  </tbody>\n",
       "</table>\n",
       "</div>"
      ],
      "text/plain": [
       "                    Name   Revenue  Rank\n",
       "Year                                    \n",
       "2021             Walmart  559151.0     1\n",
       "2021              Amazon  386064.0     2\n",
       "2021               Apple  274515.0     3\n",
       "2021                 CVS  268706.0     4\n",
       "2021  UnitedHealth Group  257141.0     5\n",
       "2021  Berkshire Hathaway  245510.0     6\n",
       "2021            McKesson  231051.0     7\n",
       "2021   AmerisourceBergen  189893.9     8\n",
       "2021            Alphabet  182527.0     9\n",
       "2021         Exxon Mobil  181502.0    10\n",
       "2020             Walmart  523964.0     1\n",
       "2020              Amazon  280522.0     2"
      ]
     },
     "execution_count": 6,
     "metadata": {},
     "output_type": "execute_result"
    }
   ],
   "source": [
    "top10.head(12)"
   ]
  },
  {
   "cell_type": "code",
   "execution_count": 7,
   "id": "e901f3aa",
   "metadata": {},
   "outputs": [
    {
     "name": "stdout",
     "output_type": "stream",
     "text": [
      "                    Name\n",
      "Exxon Mobil           67\n",
      "General Motors        63\n",
      "Ford Motor            62\n",
      "General Electric      59\n",
      "Mobil                 43\n",
      "IBM                   42\n",
      "Texaco                36\n",
      "Chevron               29\n",
      "AT&T                  28\n",
      "Chrysler              28\n",
      "Walmart               27\n",
      "Gulf Oil              25\n",
      "U.S. Steel            15\n",
      "DuPont                14\n",
      "Altria Group          13\n",
      "Berkshire Hathaway    11\n",
      "Citigroup             10\n",
      "Conoco                 9\n",
      "Apple                  9\n",
      "Esmark                 8\n",
      "CVS                    7\n",
      "Amoco                  6\n",
      "UnitedHealth Group     6\n",
      "McKesson               6\n",
      "ITT                    6\n",
      "AIG                    5\n",
      "Bank of America        4\n",
      "Amazon                 4\n",
      "Valero Energy          3\n",
      "AmerisourceBergen      3\n",
      "Hewlett-Packard        3\n",
      "Phillips 66            3\n",
      "Bethlehem Steel        2\n",
      "Armour                 2\n",
      "Boeing                 2\n",
      "Enron                  2\n",
      "Verizon                2\n",
      "Fannie Mae             2\n",
      "Sears                  1\n",
      "Atlantic Richfield     1\n",
      "Alphabet               1\n",
      "J.P. Morgan            1\n"
     ]
    }
   ],
   "source": [
    "# count of times each company has appeared in top 10.\n",
    "\n",
    "top10_count = pd.Series.to_frame(top10['Name'].value_counts())\n",
    "print(top10_count)"
   ]
  },
  {
   "cell_type": "code",
   "execution_count": 8,
   "id": "0e616464",
   "metadata": {},
   "outputs": [
    {
     "data": {
      "image/png": "[encoded data removed]",
      "text/plain": [
       "<Figure size 800x300 with 1 Axes>"
      ]
     },
     "metadata": {},
     "output_type": "display_data"
    }
   ],
   "source": [
    "# number of appearances in the top 10 demonstrated as a chart.\n",
    "\n",
    "top10_count.plot(kind = 'bar', figsize = (8,3), legend = None)\n",
    "plt.title('Number of times in Top 10')\n",
    "plt.grid(axis = 'y')\n",
    "plt.show()"
   ]
  },
  {
   "cell_type": "code",
   "execution_count": 9,
   "id": "cdc673e1",
   "metadata": {},
   "outputs": [],
   "source": [
    "# create dataframe containing top ranking company for each year\n",
    "\n",
    "number1 = df.loc[df['Rank'] == 1].reset_index()"
   ]
  },
  {
   "cell_type": "code",
   "execution_count": 10,
   "id": "341262df",
   "metadata": {},
   "outputs": [
    {
     "name": "stdout",
     "output_type": "stream",
     "text": [
      "    Year            Name   Revenue  Rank\n",
      "0   2021         Walmart  559151.0     1\n",
      "1   2020         Walmart  523964.0     1\n",
      "2   2019         Walmart  514405.0     1\n",
      "3   2018         Walmart  500343.0     1\n",
      "4   2017         Walmart  485873.0     1\n",
      "..   ...             ...       ...   ...\n",
      "62  1959  General Motors    9522.0     1\n",
      "63  1958  General Motors   10989.8     1\n",
      "64  1957  General Motors   10796.4     1\n",
      "65  1956  General Motors   12443.3     1\n",
      "66  1955  General Motors    9823.5     1\n",
      "\n",
      "[67 rows x 4 columns]\n"
     ]
    }
   ],
   "source": [
    "print(number1)"
   ]
  },
  {
   "cell_type": "code",
   "execution_count": 11,
   "id": "4730d68f",
   "metadata": {},
   "outputs": [
    {
     "name": "stdout",
     "output_type": "stream",
     "text": [
      "General Motors    37\n",
      "Walmart           17\n",
      "Exxon Mobil       13\n",
      "Name: Name, dtype: int64\n"
     ]
    }
   ],
   "source": [
    "# determine which companties have reached rank 1, and how amny time\n",
    "\n",
    "number1_count = (number1['Name'].value_counts())\n",
    "print(number1_count)"
   ]
  },
  {
   "cell_type": "code",
   "execution_count": 12,
   "id": "dfb3d4dc",
   "metadata": {},
   "outputs": [],
   "source": [
    "# create individual dataframe for each rank 1 company\n",
    "\n",
    "GM1 = number1.loc[number1['Name'] == 'General Motors']\n",
    "EM1 = number1.loc[number1['Name'] == 'Exxon Mobil']\n",
    "WM1 = number1.loc[number1['Name'] == 'Walmart']\n"
   ]
  },
  {
   "cell_type": "code",
   "execution_count": 13,
   "id": "33f12e2b",
   "metadata": {},
   "outputs": [
    {
     "data": {
      "image/png": "[encoded data removed]",
      "text/plain": [
       "<Figure size 1200x800 with 1 Axes>"
      ]
     },
     "metadata": {},
     "output_type": "display_data"
    }
   ],
   "source": [
    "plt.figure(figsize = (12,8))\n",
    "plt.plot(GM1['Year'], GM1['Revenue'], 'o', color = 'blue', label = 'General Motors')\n",
    "plt.plot(EM1['Year'], EM1['Revenue'], 'o', color = 'red', label = 'Exxon Mobil')\n",
    "plt.plot(WM1['Year'], WM1['Revenue'], 'o', color = 'green', label = 'Walmart')\n",
    "plt.title('Revenue of Rank 1 company over time')\n",
    "plt.xlabel('Year')\n",
    "plt.ylabel('Revenue (USD)')\n",
    "plt.grid()\n",
    "plt.legend()\n",
    "plt.show()\n"
   ]
  },
  {
   "cell_type": "code",
   "execution_count": 64,
   "id": "5402a506",
   "metadata": {},
   "outputs": [],
   "source": [
    "# create cpi dataframe\n",
    "\n",
    "cpi = pd.read_csv(\"cpi.csv\", index_col=0)\n",
    "\n",
    "''' Create a column to determine purchasing power in a given year relative to 2021, based on average consumer price index.\n",
    "The formula is: ([cpi of ending year]/[cpi of beginning year]) * price\n",
    "For example: cpi in 1955 = 26.8; cpi in 2021 = 270.970 \n",
    "270.970/26.8 = 10.11; 10.11*$5 = $50.55\n",
    "So, $5 in 1955 has approximately the purchasing power of $50.55 in 2021\n",
    "Data acquired from the Department on Labor Satistics, link found in readme.md '''\n",
    "\n",
    "cpi[\"purchasing_power\"] = cpi[\"cpi\"].apply(lambda x: (270.970/x))"
   ]
  },
  {
   "cell_type": "code",
   "execution_count": 65,
   "id": "dc59a3aa",
   "metadata": {},
   "outputs": [
    {
     "data": {
      "text/html": [
       "<div>\n",
       "<style scoped>\n",
       "    .dataframe tbody tr th:only-of-type {\n",
       "        vertical-align: middle;\n",
       "    }\n",
       "\n",
       "    .dataframe tbody tr th {\n",
       "        vertical-align: top;\n",
       "    }\n",
       "\n",
       "    .dataframe thead th {\n",
       "        text-align: right;\n",
       "    }\n",
       "</style>\n",
       "<table border=\"1\" class=\"dataframe\">\n",
       "  <thead>\n",
       "    <tr style=\"text-align: right;\">\n",
       "      <th></th>\n",
       "      <th>cpi</th>\n",
       "      <th>purchasing_power</th>\n",
       "    </tr>\n",
       "    <tr>\n",
       "      <th>Year</th>\n",
       "      <th></th>\n",
       "      <th></th>\n",
       "    </tr>\n",
       "  </thead>\n",
       "  <tbody>\n",
       "    <tr>\n",
       "      <th>1955</th>\n",
       "      <td>26.8</td>\n",
       "      <td>10.110821</td>\n",
       "    </tr>\n",
       "    <tr>\n",
       "      <th>1956</th>\n",
       "      <td>27.2</td>\n",
       "      <td>9.962132</td>\n",
       "    </tr>\n",
       "    <tr>\n",
       "      <th>1957</th>\n",
       "      <td>28.1</td>\n",
       "      <td>9.643060</td>\n",
       "    </tr>\n",
       "    <tr>\n",
       "      <th>1958</th>\n",
       "      <td>28.9</td>\n",
       "      <td>9.376125</td>\n",
       "    </tr>\n",
       "    <tr>\n",
       "      <th>1959</th>\n",
       "      <td>29.1</td>\n",
       "      <td>9.311684</td>\n",
       "    </tr>\n",
       "  </tbody>\n",
       "</table>\n",
       "</div>"
      ],
      "text/plain": [
       "       cpi  purchasing_power\n",
       "Year                        \n",
       "1955  26.8         10.110821\n",
       "1956  27.2          9.962132\n",
       "1957  28.1          9.643060\n",
       "1958  28.9          9.376125\n",
       "1959  29.1          9.311684"
      ]
     },
     "execution_count": 65,
     "metadata": {},
     "output_type": "execute_result"
    }
   ],
   "source": [
    "cpi.head()"
   ]
  },
  {
   "cell_type": "code",
   "execution_count": 66,
   "id": "2b8db62e",
   "metadata": {},
   "outputs": [
    {
     "data": {
      "text/html": [
       "<div>\n",
       "<style scoped>\n",
       "    .dataframe tbody tr th:only-of-type {\n",
       "        vertical-align: middle;\n",
       "    }\n",
       "\n",
       "    .dataframe tbody tr th {\n",
       "        vertical-align: top;\n",
       "    }\n",
       "\n",
       "    .dataframe thead th {\n",
       "        text-align: right;\n",
       "    }\n",
       "</style>\n",
       "<table border=\"1\" class=\"dataframe\">\n",
       "  <thead>\n",
       "    <tr style=\"text-align: right;\">\n",
       "      <th></th>\n",
       "      <th>cpi</th>\n",
       "      <th>purchasing_power</th>\n",
       "    </tr>\n",
       "    <tr>\n",
       "      <th>Year</th>\n",
       "      <th></th>\n",
       "      <th></th>\n",
       "    </tr>\n",
       "  </thead>\n",
       "  <tbody>\n",
       "    <tr>\n",
       "      <th>2017</th>\n",
       "      <td>245.120</td>\n",
       "      <td>1.105459</td>\n",
       "    </tr>\n",
       "    <tr>\n",
       "      <th>2018</th>\n",
       "      <td>251.107</td>\n",
       "      <td>1.079102</td>\n",
       "    </tr>\n",
       "    <tr>\n",
       "      <th>2019</th>\n",
       "      <td>255.657</td>\n",
       "      <td>1.059897</td>\n",
       "    </tr>\n",
       "    <tr>\n",
       "      <th>2020</th>\n",
       "      <td>258.811</td>\n",
       "      <td>1.046980</td>\n",
       "    </tr>\n",
       "    <tr>\n",
       "      <th>2021</th>\n",
       "      <td>270.970</td>\n",
       "      <td>1.000000</td>\n",
       "    </tr>\n",
       "  </tbody>\n",
       "</table>\n",
       "</div>"
      ],
      "text/plain": [
       "          cpi  purchasing_power\n",
       "Year                           \n",
       "2017  245.120          1.105459\n",
       "2018  251.107          1.079102\n",
       "2019  255.657          1.059897\n",
       "2020  258.811          1.046980\n",
       "2021  270.970          1.000000"
      ]
     },
     "execution_count": 66,
     "metadata": {},
     "output_type": "execute_result"
    }
   ],
   "source": [
    "cpi.tail()"
   ]
  },
  {
   "cell_type": "code",
   "execution_count": null,
   "id": "2f4b5a15",
   "metadata": {},
   "outputs": [],
   "source": []
  },
  {
   "cell_type": "code",
   "execution_count": null,
   "id": "65af5e25",
   "metadata": {},
   "outputs": [],
   "source": []
  }
 ],
 "metadata": {
  "kernelspec": {
   "display_name": "Python 3.10.5 64-bit",
   "language": "python",
   "name": "python3"
  },
  "language_info": {
   "codemirror_mode": {
    "name": "ipython",
    "version": 3
   },
   "file_extension": ".py",
   "mimetype": "text/x-python",
   "name": "python",
   "nbconvert_exporter": "python",
   "pygments_lexer": "ipython3",
   "version": "3.10.5"
  },
  "vscode": {
   "interpreter": {
    "hash": "971cac2d3a85aca30ddd2f84efc770d4552bac85453983cef0b0351cb5d9b584"
   }
  }
 },
 "nbformat": 4,
 "nbformat_minor": 5
}
